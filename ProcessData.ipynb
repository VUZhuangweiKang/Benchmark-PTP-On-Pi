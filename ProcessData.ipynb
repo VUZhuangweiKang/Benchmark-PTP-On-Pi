{
 "cells": [
  {
   "cell_type": "code",
   "execution_count": 2,
   "metadata": {},
   "outputs": [],
   "source": [
    "%matplotlib inline\n",
    "import matplotlib.pyplot as plt\n",
    "plt.style.use('seaborn-white')\n",
    "import numpy as np\n",
    "import json\n",
    "import os\n",
    "import pandas as pd"
   ]
  },
  {
   "cell_type": "code",
   "execution_count": 104,
   "metadata": {},
   "outputs": [],
   "source": [
    "FILE = 'ptp.csv'\n",
    "df = pd.read_csv(FILE)\n",
    "max_offset = df.max().max()\n",
    "min_offset = df.min().min()\n",
    "x_range = np.arange((int(min_offset/100))*100, (int(max_offset/100))*100, 10)\n",
    "\n",
    "y = []\n",
    "for col in df:\n",
    "    y_values = {}\n",
    "    for x in x_range:\n",
    "        y_values.update({x: 0})\n",
    "        \n",
    "    \n",
    "    # interate all intervals\n",
    "    for i in range(len(x_range)-1):\n",
    "        # check each value\n",
    "        for val in df[col]:\n",
    "            # try to match current interval\n",
    "            if x_range[i] <= val < x_range[i+1]:\n",
    "                y_values[x_range[i]] += 1\n",
    "    \n",
    "    y.append(y_values.values())\n",
    "y = pd.DataFrame(y).T\n",
    "y.index = x_range\n",
    "pd.DataFrame(y).to_csv(\"ptp-freq.csv\")"
   ]
  }
 ],
 "metadata": {
  "kernelspec": {
   "name": "python3",
   "display_name": "Python 3.7.9 64-bit"
  },
  "language_info": {
   "codemirror_mode": {
    "name": "ipython",
    "version": 3
   },
   "file_extension": ".py",
   "mimetype": "text/x-python",
   "name": "python",
   "nbconvert_exporter": "python",
   "pygments_lexer": "ipython3",
   "version": "3.7.9"
  },
  "interpreter": {
   "hash": "aee8b7b246df8f9039afb4144a1f6fd8d2ca17a180786b69acc140d282b71a49"
  }
 },
 "nbformat": 4,
 "nbformat_minor": 2
}